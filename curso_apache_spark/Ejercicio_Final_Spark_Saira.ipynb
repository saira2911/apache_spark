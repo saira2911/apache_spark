{
 "cells": [
  {
   "cell_type": "code",
   "execution_count": 0,
   "metadata": {
    "application/vnd.databricks.v1+cell": {
     "cellMetadata": {
      "byteLimit": 2048000,
      "rowLimit": 10000
     },
     "inputWidgets": {},
     "nuid": "6f64b722-48a1-428d-afa6-3a450d77c569",
     "showTitle": false,
     "title": ""
    }
   },
   "outputs": [],
   "source": [
    "# File location and type\n",
    "file_location = \"/FileStore/tables/Electric_Vehicle_Population_Data.csv\"\n",
    "file_type = \"csv\"\n",
    "\n",
    "# CSV options\n",
    "infer_schema = \"true\"\n",
    "first_row_is_header = \"true\"\n",
    "delimiter = \",\"\n",
    "\n",
    "# The applied options are for CSV files. For other file types, these will be ignored.\n",
    "df = spark.read.format(file_type) \\\n",
    "  .option(\"inferSchema\", infer_schema) \\\n",
    "  .option(\"header\", first_row_is_header) \\\n",
    "  .option(\"sep\", delimiter) \\\n",
    "  .load(file_location)\n",
    "\n",
    "display(df)"
   ]
  },
  {
   "cell_type": "code",
   "execution_count": 0,
   "metadata": {
    "application/vnd.databricks.v1+cell": {
     "cellMetadata": {
      "byteLimit": 2048000,
      "rowLimit": 10000
     },
     "inputWidgets": {},
     "nuid": "71ae16c1-7a44-46a1-a612-c7202765ac51",
     "showTitle": false,
     "title": ""
    }
   },
   "outputs": [],
   "source": [
    "#Importaciones\n",
    "from pyspark.sql.functions import *"
   ]
  },
  {
   "cell_type": "code",
   "execution_count": 0,
   "metadata": {
    "application/vnd.databricks.v1+cell": {
     "cellMetadata": {
      "byteLimit": 2048000,
      "rowLimit": 10000
     },
     "inputWidgets": {},
     "nuid": "cfc38e93-516f-4a9e-8a1c-0090476ddfc3",
     "showTitle": false,
     "title": ""
    }
   },
   "outputs": [],
   "source": [
    "# Seleccionar Columnas: Selecciona las columnas \"VIN\", \"City\" y \"Model\" del DataFrame.\n",
    "df.select(col(\"VIN (1-10)\"), col(\"City\"), col(\"Model\")).show()"
   ]
  },
  {
   "cell_type": "code",
   "execution_count": 0,
   "metadata": {
    "application/vnd.databricks.v1+cell": {
     "cellMetadata": {
      "byteLimit": 2048000,
      "rowLimit": 10000
     },
     "inputWidgets": {},
     "nuid": "5e536f43-6226-4567-a4ba-edb1f1bab108",
     "showTitle": false,
     "title": ""
    }
   },
   "outputs": [],
   "source": [
    "# Filtrar Datos: Filtra el DataFrame para mostrar solo los registros donde el \"Model Year\" sea mayor que 2018.\n",
    "df_mayor_2018 = df.where(col(\"Model Year\") > 2018)\n",
    "display(df_mayor_2018)"
   ]
  },
  {
   "cell_type": "code",
   "execution_count": 0,
   "metadata": {
    "application/vnd.databricks.v1+cell": {
     "cellMetadata": {
      "byteLimit": 2048000,
      "rowLimit": 10000
     },
     "inputWidgets": {},
     "nuid": "7e907fc9-44f5-47bc-b518-9c8187003e5e",
     "showTitle": false,
     "title": ""
    }
   },
   "outputs": [],
   "source": [
    "# Agregaciones: Calcula el promedio de la columna \"Electric Range\".\n",
    "df.select(round(avg(\"Electric Range\"),2).alias(\"Promedio Rango Electrico\")).show()"
   ]
  },
  {
   "cell_type": "code",
   "execution_count": 0,
   "metadata": {
    "application/vnd.databricks.v1+cell": {
     "cellMetadata": {
      "byteLimit": 2048000,
      "rowLimit": 10000
     },
     "inputWidgets": {},
     "nuid": "dcb2ef0e-c727-44a3-b87d-34b0f1c5b095",
     "showTitle": false,
     "title": ""
    }
   },
   "outputs": [],
   "source": [
    "# Conteo de Registros: Cuenta el número total de registros en el DataFrame.\n",
    "df.select(count(\"*\").alias(\"Total Registros\")).show()"
   ]
  },
  {
   "cell_type": "code",
   "execution_count": 0,
   "metadata": {
    "application/vnd.databricks.v1+cell": {
     "cellMetadata": {
      "byteLimit": 2048000,
      "rowLimit": 10000
     },
     "inputWidgets": {},
     "nuid": "f93c724c-d080-49a7-a109-47212323bf74",
     "showTitle": false,
     "title": ""
    }
   },
   "outputs": [],
   "source": [
    "# Agregaciones por Grupo: Calcula el promedio de \"Base MSRP\" agrupado por \"Make\".\n",
    "df_agrupado = df.groupBy(\"Make\").agg(round(avg(\"Base MSRP\"),2).alias(\"Promedio Base MSRP\"))\n",
    "display(df_agrupado)"
   ]
  },
  {
   "cell_type": "code",
   "execution_count": 0,
   "metadata": {
    "application/vnd.databricks.v1+cell": {
     "cellMetadata": {
      "byteLimit": 2048000,
      "rowLimit": 10000
     },
     "inputWidgets": {},
     "nuid": "23cd57b1-30e6-4d53-8fe1-d207a29ca4c9",
     "showTitle": false,
     "title": ""
    }
   },
   "outputs": [],
   "source": [
    "# Ordenamiento: Ordena el DataFrame por \"Electric Range\" en orden descendente.\n",
    "df_ordenado = df.select(\"*\").orderBy(desc(\"Electric Range\"))\n",
    "display(df_ordenado)"
   ]
  },
  {
   "cell_type": "code",
   "execution_count": 0,
   "metadata": {
    "application/vnd.databricks.v1+cell": {
     "cellMetadata": {
      "byteLimit": 2048000,
      "rowLimit": 10000
     },
     "inputWidgets": {},
     "nuid": "9d55bdbe-ce59-4901-a289-4105ac442e33",
     "showTitle": false,
     "title": ""
    }
   },
   "outputs": [],
   "source": [
    "# Renombrar Columnas: Renombra la columna \"Model\" a \"Car Model\" y la columna \"State\" a \"Vehicle State\".\n",
    "df_col_renomb = (df\n",
    "                 .withColumnRenamed(\"Model\", \"Car Model\")\n",
    "                 .withColumnRenamed(\"State\", \"Vehicle State\"))\n",
    "display(df_col_renomb)"
   ]
  },
  {
   "cell_type": "code",
   "execution_count": 0,
   "metadata": {
    "application/vnd.databricks.v1+cell": {
     "cellMetadata": {
      "byteLimit": 2048000,
      "rowLimit": 10000
     },
     "inputWidgets": {},
     "nuid": "f559a1e4-436e-444f-a960-4e6bb2c206df",
     "showTitle": false,
     "title": ""
    }
   },
   "outputs": [],
   "source": [
    "# Operaciones de String: Agrega una nueva columna llamada \"City_State\" que contenga la concatenación de las columnas \"City\" y \"State\", separadas por un guion bajo.\n",
    "df_new = df.withColumn(\"City_State\", concat(col(\"City\"), lit(\"_\"), col(\"State\")))\n",
    "display(df_new)"
   ]
  },
  {
   "cell_type": "code",
   "execution_count": 0,
   "metadata": {
    "application/vnd.databricks.v1+cell": {
     "cellMetadata": {
      "byteLimit": 2048000,
      "rowLimit": 10000
     },
     "inputWidgets": {},
     "nuid": "223e0650-755a-4289-8822-5aa1d3bf356a",
     "showTitle": false,
     "title": ""
    }
   },
   "outputs": [],
   "source": [
    "# Filtrar por Múltiples Condiciones: Filtra el DataFrame para mostrar solo los registros donde el \"Model Year\" sea mayor que 2018 y el \"Electric Range\" sea mayor que 200.\n",
    "df_filtrado = df.where(col(\"Model Year\") > 2018).where(col(\"Electric Range\") > 200)\n",
    "display(df_filtrado)"
   ]
  },
  {
   "cell_type": "code",
   "execution_count": 0,
   "metadata": {
    "application/vnd.databricks.v1+cell": {
     "cellMetadata": {
      "byteLimit": 2048000,
      "rowLimit": 10000
     },
     "inputWidgets": {},
     "nuid": "69ba42e9-a1f3-4ac3-a1aa-9c450d79e8f0",
     "showTitle": false,
     "title": ""
    }
   },
   "outputs": [],
   "source": [
    "df.select(\"Electric Vehicle Type\").distinct().show()"
   ]
  },
  {
   "cell_type": "code",
   "execution_count": 0,
   "metadata": {
    "application/vnd.databricks.v1+cell": {
     "cellMetadata": {
      "byteLimit": 2048000,
      "rowLimit": 10000
     },
     "inputWidgets": {},
     "nuid": "3f549771-fef4-4db3-b38a-f9698e783906",
     "showTitle": false,
     "title": ""
    }
   },
   "outputs": [],
   "source": [
    "# Agregaciones con Filtro: Calcula el promedio de \"Base MSRP\" solo para los registros donde \"Electric Vehicle Type\" es igual a \"Battery Electric\".\n",
    "df_battery_electric = df.where(col(\"Electric Vehicle Type\").contains(lit(\"Battery Electric\"))).select(round(avg(\"Base MSRP\"),2))\n",
    "display(df_battery_electric)"
   ]
  },
  {
   "cell_type": "code",
   "execution_count": 0,
   "metadata": {
    "application/vnd.databricks.v1+cell": {
     "cellMetadata": {
      "byteLimit": 2048000,
      "rowLimit": 10000
     },
     "inputWidgets": {},
     "nuid": "6328a303-7e2d-4369-8fab-d58a08c9612f",
     "showTitle": false,
     "title": ""
    }
   },
   "outputs": [],
   "source": [
    "# Funciones Matemáticas: Agrega una nueva columna llamada \"Precio_Promedio\" que contenga el precio promedio calculado como el promedio de \"Base MSRP\" y \"Electric Range\".\n",
    "df_precio_promedio = df.withColumn(\"Precio_Promedio\", (col(\"Base MSRP\") + col(\"Electric Range\"))/2)\n",
    "display(df_precio_promedio)"
   ]
  },
  {
   "cell_type": "code",
   "execution_count": 0,
   "metadata": {
    "application/vnd.databricks.v1+cell": {
     "cellMetadata": {
      "byteLimit": 2048000,
      "rowLimit": 10000
     },
     "inputWidgets": {},
     "nuid": "e535fc50-e747-41b8-bcd3-446d9e8caeaf",
     "showTitle": false,
     "title": ""
    }
   },
   "outputs": [],
   "source": [
    "# Eliminar Columnas: Elimina las columnas \"Legislative District\" y \"DOL Vehicle ID\" del DataFrame.\n",
    "df_col_eliminadas = df.drop(\"Legislative District\") \\\n",
    "                      .drop(\"DOL Vehicle ID\")\n",
    "display(df_col_eliminadas)"
   ]
  },
  {
   "cell_type": "code",
   "execution_count": 0,
   "metadata": {
    "application/vnd.databricks.v1+cell": {
     "cellMetadata": {
      "byteLimit": 2048000,
      "rowLimit": 10000
     },
     "inputWidgets": {},
     "nuid": "727568f9-7651-4624-a7bc-2ce14ca21f9d",
     "showTitle": false,
     "title": ""
    }
   },
   "outputs": [],
   "source": [
    "# Agregación: Calcula el máximo \"Electric Range\" agrupado por \"Model Year\" y \"Make\".\n",
    "\n",
    "df_max_elect_range = df.groupBy(\"Model Year\", \"Make\").agg(max(\"Electric Range\"))\n",
    "display(df_max_elect_range)"
   ]
  }
 ],
 "metadata": {
  "application/vnd.databricks.v1+notebook": {
   "dashboards": [],
   "environmentMetadata": null,
   "language": "python",
   "notebookMetadata": {
    "pythonIndentUnit": 4
   },
   "notebookName": "Ejercicio Final curso Spark",
   "widgets": {}
  }
 },
 "nbformat": 4,
 "nbformat_minor": 0
}
